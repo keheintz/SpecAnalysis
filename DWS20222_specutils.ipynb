{
 "cells": [
  {
   "cell_type": "markdown",
   "id": "42305cad",
   "metadata": {},
   "source": [
    "# DAWN Winter School 2022 \n",
    "### - Spectral Analysis Tools Tutorial\n",
    "\n",
    "This tutorial will show and provide the basics of analyzing and extracting physical properties from astronomical spectra. In this example, we will first work with a VIS arm spectrum (560-1024 nm) from the X-shooter echelle spectrograch at the ESO Very Large Telescope in Chile of the host galaxy of the gamma-ray burst (GRB) 031203.\n",
    "This tutorial will mostly rely on AstroPy's SpecUtils (https://specutils.readthedocs.io/en/stable/) module available in Python, but other tools also exist:\n",
    "- LineTools (Python: https://linetools.readthedocs.io/en/latest/)\n",
    "- splot (IRAF: https://iraf.net/)\n",
    "\n",
    "Some of these allow more quick view-and-analysis of the data with interactive GUIs, but for the sake of transparency this tutorial shows all the necessary steps involved in basic spectroscopic analysis. \n",
    "This tutorial will focus on emission-line galaxy spectra -- see the other tutorial for an example of how-to analyze absorption-line spectra."
   ]
  },
  {
   "cell_type": "code",
   "execution_count": null,
   "id": "plain-merchandise",
   "metadata": {},
   "outputs": [],
   "source": [
    "# Load in the necessary basic modules \n",
    "import numpy as np\n",
    "import matplotlib.pyplot as plt\n",
    "from astropy import units as u\n",
    "from lmfit import Model\n",
    "from astropy.cosmology import Planck18 as cosmo\n",
    "from astropy.coordinates import SkyCoord\n",
    "from dustmaps.sfd import SFDWebQuery\n",
    "import extinction"
   ]
  },
  {
   "cell_type": "code",
   "execution_count": null,
   "id": "4986186f",
   "metadata": {},
   "outputs": [],
   "source": [
    "# Load in the relevant specutils functionalities\n",
    "from specutils.spectra import Spectrum1D\n",
    "from specutils.fitting import fit_generic_continuum\n",
    "from astropy.modeling.polynomial import Polynomial1D, Chebyshev1D\n",
    "from specutils import SpectralRegion\n",
    "from specutils.analysis import equivalent_width\n",
    "from astropy.modeling import models\n",
    "from specutils.fitting import fit_lines, estimate_line_parameters"
   ]
  },
  {
   "cell_type": "code",
   "execution_count": null,
   "id": "08ec75b9",
   "metadata": {},
   "outputs": [],
   "source": [
    "# First, we need to read in the spectroscopic data\n",
    "dat = np.genfromtxt('HG031203_VIS.txt')\n",
    "wave = dat[:,0] * u.AA  # First data column is the wavelength of the spectrum in units of Ångstrom (Å)\n",
    "flux = dat[:,1] * u.Unit('erg s-1 cm-2 AA-1')# Second data column is the flux density in unis of erg s^-1 cm^-2 Å^-1 \n",
    "\n",
    "# One of the very first things to check is whether your spectrum has been corrected by the Galactic extinction due to dust. If *not*, we can do it like this\n",
    "# First input coordinates and define frame\n",
    "coords = SkyCoord('08h02m30.2s', '-39d51m03.9s', frame='icrs')\n",
    "\n",
    "# Query the E(B-V) value from the MW dust maps of Schlegel, Finkbeiner & Davis (1998):\n",
    "sfd = SFDWebQuery()\n",
    "EBV = sfd(coords)\n",
    "\n",
    "print('E(B-V) = {:.3f} mag'.format(EBV))\n",
    "\n",
    "# Convert to visual extinction, AV = E(B-V) * R_V, where average R_V = 3.1 for the MW\n",
    "AV = EBV * 3.1\n",
    "\n",
    "# Determine the wavelength-dependent extinction given the A_V\n",
    "Al = extinction.fm07(wave, AV)\n",
    "\n",
    "# Correct observed flux\n",
    "new_flux = flux * 10**(Al/2.5)\n",
    "\n",
    "# We can then plot the spectrum\n",
    "plt.step(wave,new_flux)\n",
    "# Setting title and axis labels\n",
    "plt.title('GRB031203 host')\n",
    "plt.xlabel(r'Wavelength ($\\AA$)')\n",
    "plt.ylabel(r'$F_\\lambda$ (erg s$^{-1}$ cm$^{-2}$ $\\AA^{-1}$)')\n",
    "# With sensible x and y ranges\n",
    "plt.xlim(5600,9300)\n",
    "plt.ylim(-0.1e-16,5e-16)"
   ]
  },
  {
   "cell_type": "code",
   "execution_count": null,
   "id": "f7929da4",
   "metadata": {},
   "outputs": [],
   "source": [
    "# Then for the sake of this exercise we need to re-format this dataset \n",
    "#   and create a Spectrum1D object\n",
    "spec = Spectrum1D(spectral_axis=wave, flux=new_flux)\n",
    "# The following command shows all the functionality of the python class Spectrum1D\n",
    "help(Spectrum1D)"
   ]
  },
  {
   "cell_type": "code",
   "execution_count": null,
   "id": "0c11cad1",
   "metadata": {},
   "outputs": [],
   "source": [
    "# That object can also be used to plot the spectrum following their format\n",
    "plt.step(spec.spectral_axis, spec.flux) \n",
    "\n",
    "# Setting the same title and axis labels\n",
    "plt.title('GRB031203 host')\n",
    "plt.xlabel(r'Wavelength ($\\AA$)')\n",
    "plt.ylabel(r'$F_\\lambda$ (erg s$^{-1}$ cm$^{-2}$ $\\AA^{-1}$)')\n",
    "# With sensible x and y ranges\n",
    "plt.xlim(5600,9300)\n",
    "plt.ylim(-0.1e-16,5e-16)"
   ]
  },
  {
   "cell_type": "code",
   "execution_count": null,
   "id": "2b03a8cd",
   "metadata": {},
   "outputs": [],
   "source": [
    "# As a first attempt in analyzing this spectrum we can normalize it by fitting a model to the continuum flux\n",
    "# SpecUtils \"fit_generic_continuum\" function by default first smoothes the spectrum with a median filter to remove spikes (typically emission lines) and then fits a 3rd order Chebyshev polynomial to the input (set to 1st order for this example)\n",
    "# If there is a physically motivated form of the continuum spectrum the spectrum can also be modelled with this directly\n",
    "cont_norm_spec = spec / fit_generic_continuum(spec,model=Chebyshev1D(1))(spec.spectral_axis) \n",
    "\n",
    "# Plot the normalized spectrum\n",
    "plt.step(cont_norm_spec.wavelength, cont_norm_spec.flux)  \n",
    "# With sensible x and y ranges\n",
    "plt.xlim(5600,9300)\n",
    "plt.ylim(-1,3)\n",
    "plt.xlabel(r'Wavelength ($\\AA$)')\n",
    "plt.ylabel(r'$F_\\lambda$ (norm.)')"
   ]
  },
  {
   "cell_type": "code",
   "execution_count": null,
   "id": "ffca2d57",
   "metadata": {},
   "outputs": [],
   "source": [
    "# For a clearer vizualization we can smooth the spectrum (here by a factor of 10)\n",
    "# First we define the smoothing function\n",
    "def smooth(y, box_pts):\n",
    "        box = np.ones(box_pts)/box_pts\n",
    "        y_smooth = np.convolve(y, box, mode='same')\n",
    "        return y_smooth\n",
    "\n",
    "# Smooth flux by a factor of 10\n",
    "flux_bin = smooth(cont_norm_spec.flux,20)\n",
    "# Plot (again) the normalized spectrum\n",
    "plt.step(cont_norm_spec.wavelength, flux_bin)  \n",
    "# With sensible x and y ranges\n",
    "plt.xlim(5600,9300)\n",
    "plt.ylim(-1,3)\n",
    "plt.xlabel(r'Wavelength ($\\AA$)')\n",
    "plt.ylabel(r'$F_\\lambda$ (norm.)')"
   ]
  },
  {
   "cell_type": "code",
   "execution_count": null,
   "id": "6990eaa9",
   "metadata": {},
   "outputs": [],
   "source": [
    "# Zooming in on an emission line ([NII] and H-alpha at z=0.1055)\n",
    "plt.step(cont_norm_spec.wavelength, cont_norm_spec.flux)  \n",
    "halpha_wl = 6564.61 # Wavelength of H-alpha in rest-frame\n",
    "xlow = halpha_wl * (1+0.1055) - 30\n",
    "xhigh = halpha_wl * (1+0.1055) + 30\n",
    "plt.xlim(xlow,xhigh)  \n",
    "plt.ylim(-1,200)\n",
    "plt.xlabel(r'Wavelength ($\\AA$)')\n",
    "plt.ylabel(r'$F_\\lambda$ (norm.)')"
   ]
  },
  {
   "cell_type": "code",
   "execution_count": null,
   "id": "ed4ab9e5",
   "metadata": {},
   "outputs": [],
   "source": [
    "# We can then first measure the equivalent width (EW) of the H-alpha line\n",
    "EW = np.abs(equivalent_width(cont_norm_spec, regions=SpectralRegion(7245 * u.AA, 7265 * u.AA)))\n",
    "print(EW)"
   ]
  },
  {
   "cell_type": "markdown",
   "id": "86b5c8d8",
   "metadata": {},
   "source": [
    "**The definition of equivalent width** (also noticed EW or $W_\\lambda$) is \n",
    "$$W_\\lambda = \\int_{\\lambda_1}^{\\lambda_2} (1-F_\\lambda/F_0)d\\lambda,$$ \n",
    "where $F_0$ is the continuum flux ($F_0 = 1$ in this case) and $F_\\lambda$ represents the flux across the entire wavelength range of interest ($\\lambda_1,\\lambda_2$). It is possible to calculate the EW of either an emission or an absorption line, but by definition $W_\\lambda$ will be negative for emission lines, so we output the absolute value."
   ]
  },
  {
   "cell_type": "markdown",
   "id": "b679fe87",
   "metadata": {},
   "source": [
    "### Measuring line fluxes and widths\n",
    "\n",
    "Now we have read in a typical galaxy spectrum, fitted the continuum and measured the equivalent width for a single line (H-alpha). However, key physical properties about galaxies are typically measured from the *line fluxes* of (several) emission lines. We will measure the line fluxes and widths of the most prominent nebular emission lines: H$\\alpha$, H$\\beta$, [OIII] (5008Å), [NII] (6549.86,6585.27Å), [OIII] (4960.295,5008.239Å), and the [OII] (3726,3729Å) doublet. **These transitions allow us to infer the global star-formation rate, ionization state, and metallicity of the galaxy**.   "
   ]
  },
  {
   "cell_type": "code",
   "execution_count": null,
   "id": "e9f8633c",
   "metadata": {},
   "outputs": [],
   "source": [
    "# Fit the spectrum (first H-alpha) with a Gaussian line profile\n",
    "# First we define a Gaussian model\n",
    "def gaussian(x, amp, cen, wid):\n",
    "    \"\"\"1-d gaussian: gaussian(x, amp, cen, wid)\"\"\"\n",
    "    return (amp / (np.sqrt(2*np.pi) * wid)) * np.exp(-(x-cen)**2 / (2*wid**2))\n",
    "\n",
    "def cont(x, m, b):\n",
    "    \"\"\"Defines the slope and intercept of the continuum flux\"\"\"\n",
    "    return m*x + b\n",
    "\n",
    "# Load wave and flux to dimensionless quantities (for the fit)\n",
    "x = (spec.spectral_axis).value\n",
    "y = (spec.flux).value\n",
    "\n",
    "# Read in model + specify input values\n",
    "gmodel = Model(gaussian) + Model(cont)\n",
    "# Define the model parameters results + initial guesses\n",
    "result = gmodel.fit(y, x=x, amp=8e-15, cen=7253, wid=2, m=-2e-20, b=2e-16, nan_policy='omit',method='leastsq')\n",
    "# Print the best-fit paramters\n",
    "# Here, amp = the line flux, cen = centroid of the line, and wid = the standard deviation of the function in Å\n",
    "print(result.fit_report())\n",
    "\n",
    "# Plot the spectrum centred on H-alpha\n",
    "plt.plot(x, y, 'o')\n",
    "plt.xlim(xlow,xhigh)  \n",
    "plt.ylim(-0.1e-16,5e-15)\n",
    "# Plot the initial guess and the best-fit model\n",
    "plt.plot(x, result.init_fit, '--', label='initial fit')\n",
    "plt.plot(x, result.best_fit, '-', label='best fit')"
   ]
  },
  {
   "cell_type": "code",
   "execution_count": null,
   "id": "8aa6f34b",
   "metadata": {},
   "outputs": [],
   "source": [
    "# Now we can extract the best-fit parameters into the physical quantities we are interested in\n",
    "ha_lflux = result.params['amp'].value\n",
    "ha_lflux_err = result.params['amp'].stderr\n",
    "print('H-alpha line flux, F_Ha = ',ha_lflux,' +/- ',ha_lflux_err, ' erg s^-1 cm^-2')\n",
    "\n",
    "# And determine the redshift of the line\n",
    "ha_zsp = result.params['cen'].value / halpha_wl - 1.\n",
    "print('Redshift of H-alpha = ',ha_zsp)\n",
    "\n",
    "# And the FWHM width of the line, related to \"wid\" or the S.D. as FWHM = 2*sqrt(2*ln(2))*wid ~ 2.355*wid.}\n",
    "ha_fwhm = 2 * np.sqrt(2*np.log(2)) * result.params['wid'].value \n",
    "print('FWHM of H-alpha = ',ha_fwhm,' AA')"
   ]
  },
  {
   "cell_type": "markdown",
   "id": "45b9b5b8",
   "metadata": {},
   "source": [
    "### Measuring the star-formation rate\n",
    "\n",
    "From this H$\\alpha$ line measurement alone, we can thus already say something about the redshift and the dynamics of the galaxy. From this single line measurement we can further infer the star-formation rate (SFR) of the galaxy, following the relation SFR ($M_\\odot$/yr) = $7.9\\times 10^{-42} L_{\\rm H\\alpha}$ (erg/s) from Kennicutt 1998 (https://ui.adsabs.harvard.edu/abs/1998ARA%26A..36..189K/abstract). Here $L_{\\rm H\\alpha}$ is the H$\\alpha$ line luminosity, related to the line flux via: $L_{\\rm H\\alpha} = F_{\\rm H\\alpha} \\times 4 \\pi d^2_L$, where $d_L$ is the luminosity distance at the measured redshift. We know that only the most short-lived (<20 Myr) and massive (>10 $M_\\odot$) stars contribute significantly to the integrated ionizing flux. The H$\\alpha$ emission therefore provides a nearly instantaneous measure of the SFR."
   ]
  },
  {
   "cell_type": "code",
   "execution_count": null,
   "id": "a31c9621",
   "metadata": {},
   "outputs": [],
   "source": [
    "# Compute luminosity distance at H-alpha redshift, using astropy's cosmology tools\n",
    "d_L = cosmo.luminosity_distance(ha_zsp)\n",
    "print('d_L = ',d_L)\n",
    "\n",
    "# This we need to convert to cm to make the units add up for the L_Ha -> SFR calibration\n",
    "d_L_cm = d_L.to(u.cm) \n",
    "print('d_L = ',d_L_cm)\n",
    "\n",
    "# Computing the H-alpha line luminosity\n",
    "ha_lum = ha_lflux * (u.erg / u.s / u.cm**2)  * 4 * np.pi * d_L_cm**2\n",
    "print('H-alpha line luminosity = ',ha_lum, ' +/- ',ha_lum * ha_lflux_err/ha_lflux)\n",
    "\n",
    "# We can then infer the SFR \n",
    "sfr = 7.9e-42 * (u.Msun / u.yr) / (u.erg / u.s) * ha_lum \n",
    "print(sfr)"
   ]
  },
  {
   "cell_type": "markdown",
   "id": "fd067d76",
   "metadata": {},
   "source": [
    "### Measuring the gas-phase metallicity\n",
    "\n",
    "Next, we want to measure the gas-phase metallicity of the galaxy based on the available emission lines, via so-called strong-line diagnostics or strong-line calibrations. There is a long literature on this approach (see e.g. Kewley & Ellison 2008: https://ui.adsabs.harvard.edu/abs/2008ApJ...681.1183K/abstract; Kewley et al. 2019: https://ui.adsabs.harvard.edu/abs/2019ARA%26A..57..511K/abstract; Maiolino & Mannucci 2019: https://ui.adsabs.harvard.edu/abs/2019A%26ARv..27....3M/abstract). \n",
    "\n",
    "For the sake of this exercise we will derive the metallicity using only one calibration, namely N2 = log[([NII]$\\lambda$6584/H$\\alpha$)], from Kewley & Ellison's calibration (see also Pettini & Pagel 2004). This is by no means necessarily the most accurate, but is easy and simple for us to measure for this exercise. It also has the advantage that the two line-ratio terms are close in wavelength space, making e.g. extinction due to dust a negligible issue. "
   ]
  },
  {
   "cell_type": "code",
   "execution_count": null,
   "id": "b92cb40e",
   "metadata": {},
   "outputs": [],
   "source": [
    "# Fit the spectrum (H-alpha + [NII]) with a double Gaussian line profile\n",
    "# Define rest-frame wavelengths\n",
    "ha_wl = 6564.61\n",
    "nii_wl = 6585.27\n",
    "\n",
    "# Define the double Gaussian model\n",
    "# In this step, we assume that the redshift and the line width of the two emission lines are consistent. This is physically motivated since we know they originate from the same gas.\n",
    "def gaussian(x, amp_ha, amp_nii, zsp, wid):\n",
    "    \"\"\"1-d gaussian: gaussian(x, amp, cen, wid)\"\"\"\n",
    "    return (amp_ha / (np.sqrt(2*np.pi) * wid)) * np.exp(-(x-((1+zsp)*ha_wl))**2 / (2*wid**2)) \\\n",
    "            + (amp_nii / (np.sqrt(2*np.pi) * wid)) * np.exp(-(x-((1+zsp)*nii_wl))**2 / (2*wid**2))\n",
    "\n",
    "# Define model for continuum\n",
    "def cont(x, m, b):\n",
    "    \"\"\"Defines the slope and intercept of the continuum flux\"\"\"\n",
    "    return m*x + b\n",
    "\n",
    "# Load wave and flux to dimensionless quantities (for the fit)\n",
    "x = (spec.spectral_axis).value\n",
    "y = (spec.flux).value\n",
    "\n",
    "# Read in model + specify input values\n",
    "gmodel = Model(gaussian) + Model(cont)\n",
    "# Define the model parameters results + initial guesses\n",
    "result = gmodel.fit(y, x=x, amp_ha=2e-14, amp_nii=2e-15, zsp=0.105, wid=1.5, m=-2e-20, b=2e-16, nan_policy='omit',method='leastsq')\n",
    "# Print the best-fit paramters\n",
    "print(result.fit_report())\n",
    "\n",
    "# Plot the spectrum centred on H-alpha, but scaled to view [NII]\n",
    "plt.plot(x, y, 'o')\n",
    "plt.xlim(xlow,xhigh)  \n",
    "plt.ylim(-0.1e-16,7e-16)\n",
    "# Plot the initial guess and the best-fit model\n",
    "plt.plot(x, result.init_fit, '--', label='initial fit')\n",
    "plt.plot(x, result.best_fit, '-', label='best fit')"
   ]
  },
  {
   "cell_type": "code",
   "execution_count": null,
   "id": "de076c25",
   "metadata": {},
   "outputs": [],
   "source": [
    "# Now we can extract the best-fit parameters into the physical quantities we are interested in\n",
    "ha_lflux = result.params['amp_ha'].value\n",
    "ha_lflux_err = result.params['amp_ha'].stderr\n",
    "nii_lflux = result.params['amp_nii'].value\n",
    "nii_lflux_err = result.params['amp_nii'].stderr\n",
    "print('H-alpha line flux, F_Ha = ',ha_lflux,' +/- ',ha_lflux_err, ' erg s^-1 cm^-2')\n",
    "print('[NII] line flux, F_[NII] = ',nii_lflux,' +/- ',nii_lflux_err, ' erg s^-1 cm^-2')\n",
    "\n",
    "# And determine the redshift of the line\n",
    "zsp = result.params['zsp'].value\n",
    "print('Redshift of H-alpha + [NII] = ',zsp)\n",
    "\n",
    "# And the FWHM width of the line, related to \"wid\" or the S.D. as FWHM = 2*sqrt(2*ln(2))*wid ~ 2.355*wid\n",
    "fwhm = 2 * np.sqrt(2*np.log(2)) * result.params['wid'].value \n",
    "print('FWHM of H-alpha + [NII] = ',ha_fwhm,' AA')\n",
    "\n",
    "# Ratio of the two line fluxes\n",
    "n2 = nii_lflux / ha_lflux\n",
    "log_n2 = np.log10(n2)\n",
    "\n",
    "# Which we use to determine the gas-phase oxygen abundance, quantified as 12+log(O/H) \n",
    "logOH = 9.37 + 2.03*log_n2 + 1.26*log_n2**2 + 0.32*log_n2**3\n",
    "print('12+log(O/H) = ',logOH)\n",
    "# Relative to the solar abundance of 12+log(O/H) = 8.69, this metallicity is only\n",
    "print('Relative abundance = ',10**(logOH-8.69),'% of solar')\n"
   ]
  },
  {
   "cell_type": "markdown",
   "id": "6fd1129f",
   "metadata": {},
   "source": [
    "### Concluding remarks\n",
    "\n",
    "This turorial has hopefully taught you to extract and derive basic galaxy properties from emission-line spectra, including measuring EWs, redshifts, line fluxes, dust-correction and smoothing the observed spectrum. All can be done in Python using simple core modules developed for the astronomy community, and can therefore be easily expanded and modified to your needs. \n",
    "\n",
    "### Additional exercises\n",
    "\n",
    "1. Try and read in the X-shooter UVB spectrum and correct the observed flux for Galactic extinction\n",
    "2. Measure the line fluxes of H$\\beta$ ($\\lambda_{\\rm rest} = 4862.68$ Å), [OIII]$\\lambda 5008.240$ and the doublet [OII]$\\lambda 3727.092, 3729.875$\n",
    "3. Determine the ionization parameter of this galaxy, quantified via the [OIII]/[OII] line ratio\n",
    "4. Where does this galaxy fall in the Baldwin-Phillips-Terlevich (BPT) diagram (i.e. in log[OIII]/H$\\beta$ vs log[NII]/H$\\alpha$)? Are the line ratios consistent with AGN or star formation? (see e.g. demarcation line from Kewley et al. 2013: https://ui.adsabs.harvard.edu/abs/2013ApJ...774..100K/abstract) \n",
    "5. Calculate the internal galaxy extinction $A_V$ based on the Balmer decrement, i.e. H$\\alpha$/H$\\beta$. The theoretical expectation $r_{\\rm theo}$ for a given electron temperature (typically assumed to be $T = 10^4$ K) is $r_{\\rm theo}$ = H$\\alpha$ / H$\\beta$ = 2.87. $A_V$ can then be estimated from: $A_V = \\frac{-2.5\\log(r_{\\rm obs}/r_{\\rm theo})}{A_{\\rm H\\alpha} - A_{\\rm H\\beta}}$\n"
   ]
  }
 ],
 "metadata": {
  "kernelspec": {
   "display_name": "Python 3 (ipykernel)",
   "language": "python",
   "name": "python3"
  },
  "language_info": {
   "codemirror_mode": {
    "name": "ipython",
    "version": 3
   },
   "file_extension": ".py",
   "mimetype": "text/x-python",
   "name": "python",
   "nbconvert_exporter": "python",
   "pygments_lexer": "ipython3",
   "version": "3.8.5"
  }
 },
 "nbformat": 4,
 "nbformat_minor": 5
}
